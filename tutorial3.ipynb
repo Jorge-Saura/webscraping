{
 "metadata": {
  "language_info": {
   "codemirror_mode": {
    "name": "ipython",
    "version": 3
   },
   "file_extension": ".py",
   "mimetype": "text/x-python",
   "name": "python",
   "nbconvert_exporter": "python",
   "pygments_lexer": "ipython3",
   "version": "3.8.3-final"
  },
  "orig_nbformat": 2,
  "kernelspec": {
   "name": "Python 3.8.3 64-bit ('base': conda)",
   "display_name": "Python 3.8.3 64-bit ('base': conda)",
   "metadata": {
    "interpreter": {
     "hash": "cb07a77ecf7b4449aa7dce03c8ddc610d4692d85b66af8cfbf7771292e28ab12"
    }
   }
  }
 },
 "nbformat": 4,
 "nbformat_minor": 2,
 "cells": [
  {
   "cell_type": "code",
   "execution_count": 1,
   "metadata": {},
   "outputs": [],
   "source": [
    "## Análisis horizontal"
   ]
  },
  {
   "cell_type": "code",
   "execution_count": 1,
   "metadata": {},
   "outputs": [
    {
     "output_type": "stream",
     "name": "stdout",
     "text": [
      "[document]\n"
     ]
    }
   ],
   "source": [
    "import requests\n",
    "from bs4 import BeautifulSoup\n",
    "\n",
    "str = \"https://www.bolsamadrid.es\"\n",
    "page = requests.get(str)\n",
    "soup = BeautifulSoup(page.content)\n",
    "\n",
    "print(soup.name)"
   ]
  },
  {
   "cell_type": "code",
   "execution_count": 2,
   "metadata": {},
   "outputs": [
    {
     "output_type": "stream",
     "name": "stdout",
     "text": [
      "<a>\n <b>\n  text1\n </b>\n <c>\n  text2\n </c>\n</a>\n\n\n<b>text1</b>\n<c>text2</c>\n<b>text1</b>\n\n\n"
     ]
    }
   ],
   "source": [
    "# ejemplo \n",
    "\n",
    "sibling_soup = BeautifulSoup(\"<a><b>text1</b><c>text2</c></b></a>\")\n",
    "print(sibling_soup.prettify())\n",
    "print('\\n')\n",
    "\n",
    "print(sibling_soup.b)\n",
    "print(sibling_soup.b.next_sibling)\n",
    "print(sibling_soup.c.previous_sibling)\n",
    "\n",
    "print('\\n')\n",
    "\n"
   ]
  },
  {
   "cell_type": "code",
   "execution_count": 3,
   "metadata": {
    "tags": [
     "outputPrepend"
    ]
   },
   "outputs": [
    {
     "output_type": "stream",
     "name": "stdout",
     "text": [
      "></div></div>\n<div class=\"Menu3 MenuDiv Off\" menu=\"m278\"><div class=\"MenuLink Off\"><a href=\"http://www.latibex.com\" target=\"_blank\">Web Latibex</a></div></div>\n</div>\n<div class=\"Menu2 MenuDiv Off\" menu=\"m279\"><div class=\"MenuLink MenuConOp Off\"><a href=\"#\" target=\"_self\">Índices Bolsas</a></div></div>\n<div class=\"Menu3 MenuSubOp\" menu=\"m279\">\n<div class=\"Menu3 MenuDiv Off\" menu=\"m280\"><div class=\"MenuLink MenuConOp Off\"><a href=\"#\" target=\"_self\">Bolsa de Madrid</a></div></div>\n<div class=\"Menu4 MenuSubOp\" menu=\"m280\">\n<div class=\"Menu4 MenuDiv Off\" menu=\"m281\"><div class=\"MenuLink Off\"><a href=\"/esp/aspx/Mercados/PreciosIGBM.aspx\" target=\"_self\">Precios Sesión IGBM</a></div></div>\n<div class=\"Menu4 MenuDiv Off\" menu=\"m282\"><div class=\"MenuLink Off\"><a href=\"/esp/aspx/Mercados/Graficos.aspx?tipo=BMadrid\" target=\"_self\">Gráfico histórico IGBM</a></div></div>\n<div class=\"Menu4 MenuDiv Off\" menu=\"m283\"><div class=\"MenuLink Off\"><a href=\"/esp/aspx/Indices/InfHistorica.aspx?grupo=BMadrid\" target=\"_self\">Información histórica IGBM</a></div></div>\n<div class=\"Menu4 MenuDiv Off\" menu=\"m284\"><div class=\"MenuLink Off\"><a href=\"/esp/aspx/Indices/InfHistoricaSect.aspx?grupo=BMadrid\" target=\"_self\">Información histórica Sectores</a></div></div>\n<div class=\"Menu4 MenuDiv Off\" menu=\"m285\"><div class=\"MenuLink Off\"><a href=\"/esp/indices/BMadrid/altas_bajas.aspx\" target=\"_self\">Altas y Bajas IGBM</a></div></div>\n<div class=\"Menu4 MenuDiv Off\" menu=\"m286\"><div class=\"MenuLink Off\"><a href=\"/esp/indices/BMadrid/comite_igbm.aspx\" target=\"_self\">Comité Gestión IGBM</a></div></div>\n<div class=\"Menu4 MenuDiv Off\" menu=\"m287\"><div class=\"MenuLink Off\"><a href=\"/esp/indices/BMadrid/comite_avisos.aspx\" target=\"_self\">Avisos Comité IGBM</a></div></div>\n<div class=\"Menu4 MenuDiv Off\" menu=\"m288\"><div class=\"MenuLink Off\"><a href=\"/esp/indices/BMadrid/normas-IGBM.aspx\" target=\"_self\">Normas IGBM</a></div></div>\n<div class=\"Menu4 MenuDiv Off\" menu=\"m289\"><div class=\"MenuLink Off\"><a href=\"/esp/indices/BMadrid/familias_igbm.aspx\" target=\"_self\">Familia Indices</a></div></div>\n</div>\n<div class=\"Menu3 MenuDiv Off\" menu=\"m290\"><div class=\"MenuLink MenuConOp Off\"><a href=\"#\" target=\"_self\">Bolsa de Barcelona</a></div></div>\n<div class=\"Menu4 MenuSubOp\" menu=\"m290\">\n<div class=\"Menu4 MenuDiv Off\" menu=\"m291\"><div class=\"MenuLink Off\"><a href=\"/esp/aspx/Indices/Resumen.aspx?grupo=BBarna\" target=\"_self\">Resumen Indices</a></div></div>\n<div class=\"Menu4 MenuDiv Off\" menu=\"m292\"><div class=\"MenuLink Off\"><a href=\"/esp/aspx/Mercados/PreciosBCNGlobal100.aspx\" target=\"_self\">Precios Sesion BCN GLOBAL-100</a></div></div>\n<div class=\"Menu4 MenuDiv Off\" menu=\"m293\"><div class=\"MenuLink Off\"><a href=\"/esp/aspx/Mercados/Graficos.aspx?tipo=BBarna\" target=\"_self\">Gráficos históricos</a></div></div>\n<div class=\"Menu4 MenuDiv Off\" menu=\"m294\"><div class=\"MenuLink Off\"><a href=\"/esp/aspx/Indices/InfHistorica.aspx?grupo=BBarna\" target=\"_self\">Información histórica</a></div></div>\n<div class=\"Menu4 MenuDiv Off\" menu=\"m295\"><div class=\"MenuLink Off\"><a href=\"/esp/aspx/Indices/InfHistorica.aspx?grupo=BBarnaSect\" target=\"_self\">Información histórica Sectores</a></div></div>\n<div class=\"Menu4 MenuDiv Off\" menu=\"m296\"><div class=\"MenuLink Off\"><a href=\"/esp/indices/BBarna/ComposicionIndices.aspx\" target=\"_self\">Composición Indices</a></div></div>\n<div class=\"Menu4 MenuDiv Off\" menu=\"m297\"><div class=\"MenuLink Off\"><a href=\"/esp/indices/BBarna/AltasBajasIndices.aspx\" target=\"_self\">Altas y Bajas Indices</a></div></div>\n<div class=\"Menu4 MenuDiv Off\" menu=\"m298\"><div class=\"MenuLink Off\"><a href=\"/esp/indices/BBarna/ComiteIndices.aspx\" target=\"_self\">Comité Gestión Indices</a></div></div>\n<div class=\"Menu4 MenuDiv Off\" menu=\"m299\"><div class=\"MenuLink Off\"><a href=\"/esp/aspx/BBarna/notasCG.aspx\" target=\"_self\">Notas Comité Gestión</a></div></div>\n<div class=\"Menu4 MenuDiv Off\" menu=\"m300\"><div class=\"MenuLink Off\"><a href=\"/esp/indices/BBarna/NormasIndicesBarcelona.aspx\" target=\"_self\">Normas Indices</a></div></div>\n<div class=\"Menu4 MenuDiv Off\" menu=\"m301\"><div class=\"MenuLink Off\"><a href=\"/esp/indices/BBarna/CaracteristicasIndices.aspx\" target=\"_self\">Características y Evolución</a></div></div>\n</div>\n<div class=\"Menu3 MenuDiv Off\" menu=\"m302\"><div class=\"MenuLink MenuConOp Off\"><a href=\"#\" target=\"_self\">Bolsa de Bilbao</a></div></div>\n<div class=\"Menu4 MenuSubOp\" menu=\"m302\">\n<div class=\"Menu4 MenuDiv Off\" menu=\"m303\"><div class=\"MenuLink Off\"><a href=\"/esp/indices/BBilbao/IndiceBolsaBilbao2000.aspx\" target=\"_self\">Bolsa Bilbao 2000</a></div></div>\n<div class=\"Menu4 MenuDiv Off\" menu=\"m304\"><div class=\"MenuLink Off\"><a href=\"/esp/indices/BBilbao/IndiceBolsaBilbao_Avisos.aspx\" target=\"_self\">Avisos</a></div></div>\n<div class=\"Menu4 MenuDiv Off\" menu=\"m305\"><div class=\"MenuLink Off\"><a href=\"/esp/aspx/Mercados/Graficos.aspx?tipo=BBilbao\" target=\"_self\">Gráficos históricos</a></div></div>\n<div class=\"Menu4 MenuDiv Off\" menu=\"m306\"><div class=\"MenuLink Off\"><a href=\"/esp/aspx/Indices/InfHistorica.aspx?grupo=BBilbao\" target=\"_self\">Información histórica</a></div></div>\n</div>\n<div class=\"Menu3 MenuDiv Off\" menu=\"m307\"><div class=\"MenuLink MenuConOp Off\"><a href=\"#\" target=\"_self\">Bolsa de Valencia</a></div></div>\n<div class=\"Menu4 MenuSubOp\" menu=\"m307\">\n<div class=\"Menu4 MenuDiv Off\" menu=\"m308\"><div class=\"MenuLink Off\"><a href=\"/esp/indices/BValencia/IndiceGeneral.aspx\" target=\"_self\">Indice General</a></div></div>\n<div class=\"Menu4 MenuDiv Off\" menu=\"m309\"><div class=\"MenuLink Off\"><a href=\"/esp/aspx/Mercados/Graficos.aspx?tipo=BValencia\" target=\"_self\">Gráficos históricos</a></div></div>\n<div class=\"Menu4 MenuDiv Off\" menu=\"m310\"><div class=\"MenuLink Off\"><a href=\"/esp/aspx/Indices/InfHistorica.aspx?grupo=BValencia\" target=\"_self\">Información histórica</a></div></div>\n<div class=\"Menu4 MenuDiv Off\" menu=\"m311\"><div class=\"MenuLink Off\"><a href=\"javascript:sacaVentana('/docs/Indices/BValencia/ClasifSectorial2006BV.pdf')\" target=\"_self\">Clasificación sectorial</a></div></div>\n</div>\n</div>\n</div>\n<div class=\"Menu1 MenuDiv Azul Off\" menu=\"m312\"><div class=\"MenuLink MenuConOp Off\"><a href=\"#\" target=\"_self\">EMPRESAS COTIZADAS</a></div></div>\n<div class=\"Menu2 MenuSubOp\" menu=\"m312\">\n<div class=\"Menu2 MenuDiv Off\" menu=\"m313\"><div class=\"MenuLink Off\"><a href=\"/esp/aspx/Empresas/Empresas.aspx\" target=\"_self\">Lista de Empresas</a></div></div>\n<div class=\"Menu2 MenuDiv Off\" menu=\"m314\"><div class=\"MenuLink Off\"><a href=\"/esp/aspx/Empresas/HechosRelevantesUltimos.aspx\" target=\"_self\">Información privilegiada/Otra información relevante</a></div></div>\n<div class=\"Menu2 MenuDiv Off\" menu=\"m317\"><div class=\"MenuLink MenuConOp Off\"><a href=\"/esp/aspx/Empresas/OperFinancieras/Dividendos.aspx\" target=\"_self\">Dividendos</a></div></div>\n<div class=\"Menu3 MenuSubOp\" menu=\"m317\">\n<div class=\"Menu3 MenuDiv Off\" menu=\"m318\"><div class=\"MenuLink Off\"><a href=\"javascript:sacaVentana('/docs/BMadrid/docsSubidos/Reforma_ cambio_fecha_pago_dividendos.pdf')\" target=\"_self\">Fechas clave en el pago de dividendos</a></div></div>\n</div>\n<div class=\"Menu2 MenuDiv Off\" menu=\"m319\"><div class=\"MenuLink Off\"><a href=\"/esp/aspx/Empresas/OperFinancieras/OPVs_OPSs.aspx\" target=\"_self\">Operaciones Financieras</a></div></div>\n<div class=\"Menu2 MenuDiv Off\" menu=\"m326\"><div class=\"MenuLink Off\"><a href=\"/esp/aspx/Empresas/Admisiones.aspx\" target=\"_self\">Admisiones a Negociación</a></div></div>\n<div class=\"Menu2 MenuDiv Off\" menu=\"m327\"><div class=\"MenuLink Off\"><a href=\"/esp/aspx/Empresas/Exclusiones.aspx\" target=\"_self\">Exclusiones de Negociación</a></div></div>\n<div class=\"Menu2 MenuDiv Off\" menu=\"m328\"><div class=\"MenuLink Off\"><a href=\"/esp/aspx/Empresas/EmpresasPorSectores.aspx\" target=\"_self\">Clasificación sectorial</a></div></div>\n<div class=\"Menu2 MenuDiv Off\" menu=\"m332\"><div class=\"MenuLink MenuConOp Off\"><a href=\"#\" target=\"_self\">Análisis</a></div></div>\n<div class=\"Menu3 MenuSubOp\" menu=\"m332\">\n<div class=\"Menu3 MenuDiv Off\" menu=\"m333\"><div class=\"MenuLink Off\"><a href=\"/esp/aspx/Empresas/Analisis/BuscadorAnalisis.aspx\" target=\"_self\">Análisis Lighthouse</a></div></div>\n<div class=\"Menu3 MenuDiv Off\" menu=\"m336\"><div class=\"MenuLink Off\"><a href=\"/esp/Empresas/MorningStar_IbexMed.aspx\" target=\"_self\">Análisis Cuantitativo</a></div></div>\n<div class=\"Menu3 MenuDiv Off\" menu=\"m341\"><div class=\"MenuLink Off\"><a href=\"/esp/Empresas/EDISON.aspx\" target=\"_self\">Análisis EDISON</a></div></div>\n</div>\n</div>\n<div class=\"Menu1 MenuDiv Azul Off\" menu=\"m342\"><div class=\"MenuLink MenuConOp Off\"><a href=\"#\" target=\"_self\">ESTADÍSTICAS Y PUBLICACIONES</a></div></div>\n<div class=\"Menu2 MenuSubOp\" menu=\"m342\">\n<div class=\"Menu2 MenuDiv Off\" menu=\"m343\"><div class=\"MenuLink MenuConOp Off\"><a href=\"#\" target=\"_self\">Estadísticas</a></div></div>\n<div class=\"Menu3 MenuSubOp\" menu=\"m343\">\n<div class=\"Menu3 MenuDiv Off\" menu=\"m344\"><div class=\"MenuLink Off\"><a href=\"http://www.bolsasymercados.es/esp/Estudios-Publicaciones/Estadisticas\" target=\"_blank\">Mensuales</a></div></div>\n<div class=\"Menu3 MenuDiv Off\" menu=\"m345\"><div class=\"MenuLink Off\"><a href=\"http://www.bolsasymercados.es/esp/Estudios-Publicaciones/Informe-Mercado\" target=\"_blank\">Anuales</a></div></div>\n</div>\n<div class=\"Menu2 MenuDiv Off\" menu=\"m346\"><div class=\"MenuLink MenuConOp Off\"><a href=\"#\" target=\"_self\">Boletines de Cotización</a></div></div>\n<div class=\"Menu3 MenuSubOp\" menu=\"m346\">\n<div class=\"Menu3 MenuDiv Off\" menu=\"m347\"><div class=\"MenuLink Off\"><a href=\"/esp/aspx/Estadisticas/Boletin/frameboletin.aspx\" target=\"_self\">Bolsa de Madrid</a></div></div>\n<div class=\"Menu3 MenuDiv Off\" menu=\"m348\"><div class=\"MenuLink Off\"><a href=\"/esp/aspx/Estadisticas/Boletin/frameboletin.aspx?bolsa=BBarna\" target=\"_self\">Bolsa de Barcelona</a></div></div>\n<div class=\"Menu3 MenuDiv Off\" menu=\"m349\"><div class=\"MenuLink Off\"><a href=\"/esp/aspx/Estadisticas/Boletin/frameboletin.aspx?bolsa=BBilbao\" target=\"_self\">Bolsa de Bilbao</a></div></div>\n<div class=\"Menu3 MenuDiv Off\" menu=\"m350\"><div class=\"MenuLink Off\"><a href=\"/esp/aspx/Estadisticas/Boletin/frameboletin.aspx?bolsa=BValencia\" target=\"_self\">Bolsa de Valencia</a></div></div>\n<div class=\"Menu3 MenuDiv Off\" menu=\"m353\"><div class=\"MenuLink Off\"><a href=\"javascript:sacaVentana('/docs/Sbolsas/InformesSB/bdiario.pdf')\" target=\"_self\">Boletin Mercado Continuo</a></div></div>\n</div>\n<div class=\"Menu2 MenuDiv Off\" menu=\"m354\"><div class=\"MenuLink MenuConOp Off\"><a href=\"#\" target=\"_self\">Informes</a></div></div>\n<div class=\"Menu3 MenuSubOp\" menu=\"m354\">\n<div class=\"Menu3 MenuDiv Off\" menu=\"m355\"><div class=\"MenuLink Off\"><a href=\"javascript:sacaVentana('/docs/SBolsas/InformesSB/resumen.pdf')\" target=\"_self\">Resumen diario Índices IBEX</a></div></div>\n<div class=\"Menu3 MenuDiv Off\" menu=\"m356\"><div class=\"MenuLink Off\"><a href=\"javascript:sacaVentana('/docs/SBolsas/InformesSB/semanal.pdf')\" target=\"_self\">Resumen semanal Índices IBEX</a></div></div>\n<div class=\"Menu3 MenuDiv Off\" menu=\"m357\"><div class=\"MenuLink Off\"><a href=\"javascript:sacaVentana('/docs/Sbolsas/InformesSB/Mensual.pdf')\" target=\"_self\">Informe mensual Mercado Continuo</a></div></div>\n<div class=\"Menu3 MenuDiv Off\" menu=\"m358\"><div class=\"MenuLink Off\"><a href=\"javascript:sacaVentana('/docs/Sbolsas/InformesSB/anual.pdf')\" target=\"_self\">Informe anual Mercado Continuo</a></div></div>\n<div class=\"Menu3 MenuDiv Off\" menu=\"m359\"><div class=\"MenuLink Off\"><a href=\"http://www.bolsasymercados.es/esp/Estudios-Publicaciones/Informe-Mercado\" target=\"_blank\">Informe anual Mercados BME</a></div></div>\n</div>\n<div class=\"Menu2 MenuDiv Off\" menu=\"m360\"><div class=\"MenuLink MenuConOp Off\"><a href=\"#\" target=\"_self\">Otras Publicaciones</a></div></div>\n<div class=\"Menu3 MenuSubOp\" menu=\"m360\">\n<div class=\"Menu3 MenuDiv Off\" menu=\"m361\"><div class=\"MenuLink Off\"><a href=\"https://www.bolsasymercados.es/esp/Estudios-Publicaciones\" target=\"_blank\">Estudios y Publicaciones</a></div></div>\n<div class=\"Menu3 MenuDiv Off\" menu=\"m362\"><div class=\"MenuLink Off\"><a href=\"https://www.bolsasymercados.es/esp/Estudios-Publicaciones/Libros-y-Guias\" target=\"_blank\">Libros y Guías</a></div></div>\n</div>\n<div class=\"Menu2 MenuDiv Off\" menu=\"m364\"><div class=\"MenuLink Off\"><a href=\"/esp/aspx/Mercados/Fondos.aspx\" target=\"_self\">Fondos de Inversión</a></div></div>\n</div>\n</div>, '\\n', <div class=\"MenuGrTit\"><div>Información:</div></div>, '\\n', <div class=\"MenuGrupo Blanco\">\n<div class=\"Menu1 MenuDiv Blanco Off\" menu=\"m365\"><div class=\"MenuLink MenuConOp Off\"><a href=\"#\" target=\"_self\">PARA INVERSORES</a></div></div>\n<div class=\"Menu2 MenuSubOp\" menu=\"m365\">\n<div class=\"Menu2 MenuDiv Off\" menu=\"m366\"><div class=\"MenuLink MenuConOp Off\"><a href=\"#\" target=\"_self\">Formación</a></div></div>\n<div class=\"Menu3 MenuSubOp\" menu=\"m366\">\n<div class=\"Menu3 MenuDiv Off\" menu=\"m367\"><div class=\"MenuLink Off\"><a href=\"/esp/Inversores/Formacion/QueeslaBolsa.aspx\" target=\"_self\">¿Qué es la Bolsa?</a></div></div>\n<div class=\"Menu3 MenuDiv Off\" menu=\"m368\"><div class=\"MenuLink Off\"><a href=\"/esp/aspx/Inversores/Formacion/Formacion.aspx?tipo=T\" target=\"_self\">Cursos y Masters</a></div></div>\n<div class=\"Menu3 MenuDiv Off\" menu=\"m369\"><div class=\"MenuLink Off\"><a href=\"/esp/Inversores/Formacion/Invertir/PerfilInversor.aspx\" target=\"_self\">Cómo invertir en Bolsa</a></div></div>\n<div class=\"Menu3 MenuDiv Off\" menu=\"m377\"><div class=\"MenuLink Off\"><a href=\"/esp/Inversores/Formacion/Guias/Guias.aspx\" target=\"_self\">Guías del inversor</a></div></div>\n<div class=\"Menu3 MenuDiv Off\" menu=\"m378\"><div class=\"MenuLink Off\"><a href=\"/esp/Inversores/Formacion/Glosario/A.aspx\" target=\"_self\">Glosario</a></div></div>\n<div class=\"Menu3 MenuDiv Off\" menu=\"m406\"><div class=\"MenuLink Off\"><a href=\"/esp/Inversores/Formacion/Invertir/FAQS.aspx\" target=\"_self\">Preguntas Frecuentes</a></div></div>\n</div>\n<div class=\"Menu2 MenuDiv Off\" menu=\"m407\"><div class=\"MenuLink Off\"><a href=\"/esp/Inversores/MercadoEsp.aspx\" target=\"_self\">El Mercado de Valores Español</a></div></div>\n<div class=\"Menu2 MenuDiv Off\" menu=\"m411\"><div class=\"MenuLink Off\"><a href=\"http://biblioteca.bolsasymercados.es/opac/\" target=\"_blank\">Biblioteca BME</a></div></div>\n<div class=\"Menu2 MenuDiv Off\" menu=\"m412\"><div class=\"MenuLink Off\"><a href=\"https://www.bolsasymercados.es/esp/Estudios-Publicaciones/Libros-y-Guias\" target=\"_blank\">Libros y guías</a></div></div>\n<div class=\"Menu2 MenuDiv Off\" menu=\"m413\"><div class=\"MenuLink Off\"><a href=\"/esp/aspx/Inversores/Agenda/Agenda.aspx\" target=\"_self\">Agenda del Inversor</a></div></div>\n<div class=\"Menu2 MenuDiv Off\" menu=\"m419\"><div class=\"MenuLink Off\"><a href=\"/esp/Inversores/ServInversores.aspx\" target=\"_self\">Servicios para Inversores</a></div></div>\n</div>\n<div class=\"Menu1 MenuDiv Blanco Off\" menu=\"m420\"><div class=\"MenuLink MenuConOp Off\"><a href=\"#\" target=\"_self\">PARA EMPRESAS</a></div></div>\n<div class=\"Menu2 MenuSubOp\" menu=\"m420\">\n<div class=\"Menu2 MenuDiv Off\" menu=\"m421\"><div class=\"MenuLink Off\"><a href=\"/esp/ParaEmp/ComoCotizar/ComoCotizar1.aspx\" target=\"_self\">Cómo cotizar en Bolsa</a></div></div>\n<div class=\"Menu2 MenuDiv Off\" menu=\"m422\"><div class=\"MenuLink Off\"><a href=\"/esp/ParaEmp/VenCotizar/VenCotizar1.aspx\" target=\"_self\">Ventajas de Cotizar en Bolsa</a></div></div>\n<div class=\"Menu2 MenuDiv Off\" menu=\"m429\"><div class=\"MenuLink Off\"><a href=\"http://www.bolsasymercados.es/BME_4Companies/esp\" target=\"_blank\">BME 4Companies</a></div></div>\n<div class=\"Menu2 MenuDiv Off\" menu=\"m430\"><div class=\"MenuLink Off\"><a href=\"http://www.entornopremercado.es\" target=\"_blank\">Entorno Pre Mercado</a></div></div>\n<div class=\"Menu2 MenuDiv Off\" menu=\"m431\"><div class=\"MenuLink Off\"><a href=\"/esp/ParaEmp/Eventos-Corporativos.aspx\" target=\"_self\">Eventos Corporativos</a></div></div>\n</div>\n<div class=\"Menu1 MenuDiv Blanco Off\" menu=\"m432\"><div class=\"MenuLink MenuConOp Off\"><a href=\"#\" target=\"_self\">PARA MIEMBROS Y PROFESIONALES</a></div></div>\n<div class=\"Menu2 MenuSubOp\" menu=\"m432\">\n<div class=\"Menu2 MenuDiv Off\" menu=\"m433\"><div class=\"MenuLink Off\"><a href=\"/esp/Miembros/Ibex/IBEXContratoLicenciaUso.aspx\" target=\"_self\">Contratos IBEX</a></div></div>\n<div class=\"Menu2 MenuDiv Off\" menu=\"m434\"><div class=\"MenuLink Off\"><a href=\"/esp/Miembros/Ibex/Contacto.aspx\" target=\"_self\">Contacto</a></div></div>\n<div class=\"Menu2 MenuDiv Off\" menu=\"m435\"><div class=\"MenuLink Off\"><a href=\"javascript:sacaVentana('/docs/SBolsas/InformesSB/listadodevalores.pdf')\" target=\"_self\">Listado de Valores</a></div></div>\n<div class=\"Menu2 MenuDiv Off\" menu=\"m436\"><div class=\"MenuLink MenuConOp Off\"><a href=\"#\" target=\"_self\">Modelo de Mercado</a></div></div>\n<div class=\"Menu3 MenuSubOp\" menu=\"m436\">\n<div class=\"Menu3 MenuDiv Off\" menu=\"m437\"><div class=\"MenuLink Off\"><a href=\"javascript:sacaVentana('/docs/SBolsas/docsSubidos/SIBE/modelomercado.pdf')\" target=\"_self\">Acciones</a></div></div>\n<div class=\"Menu3 MenuDiv Off\" menu=\"m438\"><div class=\"MenuLink Off\"><a href=\"javascript:sacaVentana('/docs/SBolsas/docsSubidos/SIBE/modelomercadoETF.pdf')\" target=\"_self\">ETFs</a></div></div>\n<div class=\"Menu3 MenuDiv Off\" menu=\"m439\"><div class=\"MenuLink Off\"><a href=\"javascript:sacaVentana('/docs/SBolsas/docsSubidos/SIBE/mdlomdowarrcertotros.pdf')\" target=\"_self\">Warrants</a></div></div>\n</div>\n<div class=\"Menu2 MenuDiv Off\" menu=\"m440\"><div class=\"MenuLink MenuConOp Off\"><a href=\"/esp/Miembros/AccesoMercado.aspx\" target=\"_self\">Acceso al Mercado</a></div></div>\n<div class=\"Menu3 MenuSubOp\" menu=\"m440\">\n<div class=\"Menu3 MenuDiv Off\" menu=\"m441\"><div class=\"MenuLink Off\"><a href=\"/esp/Miembros/AplicExternas.aspx\" target=\"_self\">Aplicaciones externas</a></div></div>\n</div>\n<div class=\"Menu2 MenuDiv Off\" menu=\"m442\"><div class=\"MenuLink MenuConOp Off\"><a href=\"#\" target=\"_self\">Tarifas</a></div></div>\n<div class=\"Menu3 MenuSubOp\" menu=\"m442\">\n<div class=\"Menu3 MenuDiv Off\" menu=\"m443\"><div class=\"MenuLink Off\"><a href=\"/docs/Miembros/tarifasSB.pdf\" target=\"_blank\">Sociedad de Bolsas</a></div></div>\n<div class=\"Menu3 MenuDiv Off\" menu=\"m444\"><div class=\"MenuLink Off\"><a href=\"/docs/Miembros/TarifasRectoras.pdf\" target=\"_blank\">Rectoras</a></div></div>\n</div>\n<div class=\"Menu2 MenuDiv Off\" menu=\"m445\"><div class=\"MenuLink Off\"><a href=\"javascript:sacaVentana('/docs/SBolsas/InformesSB/miembrosmercado.pdf')\" target=\"_self\">Miembros del Mercado</a></div></div>\n<div class=\"Menu2 MenuDiv Off\" menu=\"m446\"><div class=\"MenuLink Off\"><a href=\"/esp/aspx/Regulacion/Regulacion.aspx?cod=SBolsas\" target=\"_self\">Regulación</a></div></div>\n<div class=\"Menu2 MenuDiv Off\" menu=\"m447\"><div class=\"MenuLink Off\"><a href=\"javascript:sacaVentana('/docs/Acciones/sect.pdf')\" target=\"_self\">Clasificación sectorial</a></div></div>\n<div class=\"Menu2 MenuDiv Off\" menu=\"m448\"><div class=\"MenuLink Off\"><a href=\"/esp/Miembros/Servicios/MiembrosServicios.aspx\" target=\"_self\">Servicios para miembros y profesionales</a></div></div>\n<div class=\"Menu2 MenuDiv Off\" menu=\"m450\"><div class=\"MenuLink Off\"><a href=\"/esp/Miembros/MIFID_II.aspx\" target=\"_self\">MiFID II</a></div></div>\n<div class=\"Menu2 MenuDiv Off\" menu=\"m459\"><div class=\"MenuLink Off\"><a href=\"/esp/Miembros/BMESecuritiesSolutions.aspx\" target=\"_self\">BME Securities Solutions</a></div></div>\n</div>\n<div class=\"Menu1 MenuDiv Blanco Off\" menu=\"m460\"><div class=\"MenuLink MenuConOp Off\"><a href=\"#\" target=\"_self\">PARA MEDIOS DE COMUNICACIÓN</a></div></div>\n<div class=\"Menu2 MenuSubOp\" menu=\"m460\">\n<div class=\"Menu2 MenuDiv Off\" menu=\"m461\"><div class=\"MenuLink Off\"><a href=\"/esp/aspx/Prensa/SalaPrensa.aspx?tipo=07\" target=\"_self\">Notas de Prensa</a></div></div>\n<div class=\"Menu2 MenuDiv Off\" menu=\"m462\"><div class=\"MenuLink Off\"><a href=\"/esp/aspx/Prensa/Contacte.aspx\" target=\"_self\">Contacto de Prensa</a></div></div>\n<div class=\"Menu2 MenuDiv Off\" menu=\"m463\"><div class=\"MenuLink Off\"><a href=\"http://www.bolsasymercados.es/esp/Sala-Comunicacion\" target=\"Prensa\">Sala de Prensa</a></div></div>\n</div>\n</div>, '\\n']\n"
     ]
    }
   ],
   "source": [
    "print(soup.div.find(id='MenuIzq').contents)\n",
    "\n",
    "\n",
    "\n",
    "\n",
    "\n",
    "# for sibling in soup.a.next_siblings:\n",
    "#     print(sibling)\n",
    "# #    print(repr(sibling))\n"
   ]
  },
  {
   "cell_type": "code",
   "execution_count": 19,
   "metadata": {
    "tags": []
   },
   "outputs": [
    {
     "output_type": "stream",
     "name": "stdout",
     "text": [
      "--- head_tag\n<head data-analytics-id=\"UA-35966870-2\" data-app-path=\"/\" data-bolsa=\"BMadrid\" data-hora-act=\"Mon, 19 Oct 2020 09:18:32 GMT\" data-idioma=\"esp\"><meta content=\"IE=11\" http-equiv=\"X-UA-Compatible\"/><meta content=\"text/html; charset=utf-8\" http-equiv=\"Content-Type\"/><meta content=\"Copyright © BME 2020\" id=\"ctl00_copyright\" name=\"copyright\"/><title>\n\tBolsa de Madrid\n</title><link href=\"/esp/aspx/RSS/RSS.ashx?feed=Todo\" id=\"ctl00_RSSLink1\" rel=\"alternate\" title=\"Bolsa de Madrid: Todos los contenidos agregados\" type=\"application/rss+xml\"/><link href=\"/esp/aspx/RSS/RSS.ashx?feed=NotasPrensa\" id=\"ctl00_RSSLink2\" rel=\"alternate\" title=\"Bolsa de Madrid: Notas de Prensa\" type=\"application/rss+xml\"/><link href=\"/esp/aspx/RSS/RSS.ashx?feed=Regulacion\" id=\"ctl00_RSSLink3\" rel=\"alternate\" title=\"Bolsa de Madrid: Regulación: Circulares e Instrucciones Operativas\" type=\"application/rss+xml\"/><link href=\"/esp/aspx/RSS/RSS.ashx?feed=Indices\" id=\"ctl00_RSSLink4\" rel=\"alternate\" title=\"Bolsa de Madrid: Avisos Índices IBEX\" type=\"application/rss+xml\"/><link href=\"/esp/aspx/RSS/RSS.ashx?feed=Revista\" id=\"ctl00_RSSLink5\" rel=\"alternate\" title=\"Bolsa de Madrid: Artículos de la Revista Bolsa\" type=\"application/rss+xml\"/><script src=\"/js/Master?v=PtkdVRSCSv57J6f6ZB9CkgELDTGRfkMqHc6PrIxS-pw1\"></script>\n<link href=\"/css/css?v=Xgw1zxI1j2o88_i30Kjf_s3mXqcuR0ltVpgFaGkwvvU1\" rel=\"stylesheet\"/>\n<script language=\"javascript\" src=\"/js/TABLEscroll.js\" type=\"text/javascript\"></script></head>\n\n\n--- content of head tag\n[<meta content=\"IE=11\" http-equiv=\"X-UA-Compatible\"/>, <meta content=\"text/html; charset=utf-8\" http-equiv=\"Content-Type\"/>, <meta content=\"Copyright © BME 2020\" id=\"ctl00_copyright\" name=\"copyright\"/>, <title>\n\tBolsa de Madrid\n</title>, <link href=\"/esp/aspx/RSS/RSS.ashx?feed=Todo\" id=\"ctl00_RSSLink1\" rel=\"alternate\" title=\"Bolsa de Madrid: Todos los contenidos agregados\" type=\"application/rss+xml\"/>, <link href=\"/esp/aspx/RSS/RSS.ashx?feed=NotasPrensa\" id=\"ctl00_RSSLink2\" rel=\"alternate\" title=\"Bolsa de Madrid: Notas de Prensa\" type=\"application/rss+xml\"/>, <link href=\"/esp/aspx/RSS/RSS.ashx?feed=Regulacion\" id=\"ctl00_RSSLink3\" rel=\"alternate\" title=\"Bolsa de Madrid: Regulación: Circulares e Instrucciones Operativas\" type=\"application/rss+xml\"/>, <link href=\"/esp/aspx/RSS/RSS.ashx?feed=Indices\" id=\"ctl00_RSSLink4\" rel=\"alternate\" title=\"Bolsa de Madrid: Avisos Índices IBEX\" type=\"application/rss+xml\"/>, <link href=\"/esp/aspx/RSS/RSS.ashx?feed=Revista\" id=\"ctl00_RSSLink5\" rel=\"alternate\" title=\"Bolsa de Madrid: Artículos de la Revista Bolsa\" type=\"application/rss+xml\"/>, <script src=\"/js/Master?v=PtkdVRSCSv57J6f6ZB9CkgELDTGRfkMqHc6PrIxS-pw1\"></script>, '\\n', <link href=\"/css/css?v=Xgw1zxI1j2o88_i30Kjf_s3mXqcuR0ltVpgFaGkwvvU1\" rel=\"stylesheet\"/>, '\\n', <script language=\"javascript\" src=\"/js/TABLEscroll.js\" type=\"text/javascript\"></script>]\n\n\n--- content[0]\n<meta content=\"IE=11\" http-equiv=\"X-UA-Compatible\"/>\n\n\n--- content[3]\n<title>\n\tBolsa de Madrid\n</title>\n\n\n--- title\n<title>\n\tBolsa de Madrid\n</title>\n"
     ]
    }
   ],
   "source": [
    "head_tag = soup.head\n",
    "print(\"--- head_tag\")\n",
    "print(head_tag)\n",
    "print('\\n')\n",
    "print(\"--- content of head tag\")\n",
    "print(head_tag.contents)\n",
    "print('\\n')\n",
    "print(\"--- content[0]\")\n",
    "title_tag = head_tag.contents \n",
    "print(title_tag[0]) #first element\n",
    "print('\\n')\n",
    "print(\"--- content[3]\")\n",
    "print(head_tag.contents[3])\n",
    "print('\\n')\n",
    "print(\"--- title\")\n",
    "print(head_tag.title)\n",
    "#print(soup.body.td)\n",
    "\n"
   ]
  },
  {
   "cell_type": "code",
   "execution_count": 4,
   "metadata": {},
   "outputs": [
    {
     "output_type": "stream",
     "name": "stdout",
     "text": [
      "--- listing children\n"
     ]
    },
    {
     "output_type": "error",
     "ename": "NameError",
     "evalue": "name 'head_tag' is not defined",
     "traceback": [
      "\u001b[1;31m---------------------------------------------------------------------------\u001b[0m",
      "\u001b[1;31mNameError\u001b[0m                                 Traceback (most recent call last)",
      "\u001b[1;32m<ipython-input-4-5e40b7aff4a1>\u001b[0m in \u001b[0;36m<module>\u001b[1;34m\u001b[0m\n\u001b[0;32m      1\u001b[0m \u001b[0mprint\u001b[0m\u001b[1;33m(\u001b[0m\u001b[1;34m\"--- listing children\"\u001b[0m\u001b[1;33m)\u001b[0m\u001b[1;33m\u001b[0m\u001b[1;33m\u001b[0m\u001b[0m\n\u001b[0;32m      2\u001b[0m \u001b[1;31m#print (title_tag)\u001b[0m\u001b[1;33m\u001b[0m\u001b[1;33m\u001b[0m\u001b[1;33m\u001b[0m\u001b[0m\n\u001b[1;32m----> 3\u001b[1;33m \u001b[1;32mfor\u001b[0m \u001b[0mchild\u001b[0m \u001b[1;32min\u001b[0m \u001b[0mhead_tag\u001b[0m\u001b[1;33m.\u001b[0m\u001b[0mchildren\u001b[0m\u001b[1;33m:\u001b[0m\u001b[1;33m\u001b[0m\u001b[1;33m\u001b[0m\u001b[0m\n\u001b[0m\u001b[0;32m      4\u001b[0m     \u001b[0mprint\u001b[0m\u001b[1;33m(\u001b[0m\u001b[0mchild\u001b[0m\u001b[1;33m)\u001b[0m\u001b[1;33m\u001b[0m\u001b[1;33m\u001b[0m\u001b[0m\n\u001b[0;32m      5\u001b[0m     \u001b[0mprint\u001b[0m\u001b[1;33m(\u001b[0m\u001b[1;34m'\\n'\u001b[0m\u001b[1;33m)\u001b[0m\u001b[1;33m\u001b[0m\u001b[1;33m\u001b[0m\u001b[0m\n",
      "\u001b[1;31mNameError\u001b[0m: name 'head_tag' is not defined"
     ]
    }
   ],
   "source": [
    "\n",
    "print(\"--- listing children\")\n",
    "#print (title_tag)\n",
    "for child in head_tag.children:\n",
    "    print(child)\n",
    "    print('\\n')"
   ]
  },
  {
   "cell_type": "code",
   "execution_count": 21,
   "metadata": {},
   "outputs": [
    {
     "output_type": "stream",
     "name": "stdout",
     "text": [
      "--- listing descendants\n<meta content=\"IE=11\" http-equiv=\"X-UA-Compatible\"/>\n\n\n<meta content=\"text/html; charset=utf-8\" http-equiv=\"Content-Type\"/>\n\n\n<meta content=\"Copyright © BME 2020\" id=\"ctl00_copyright\" name=\"copyright\"/>\n\n\n<title>\n\tBolsa de Madrid\n</title>\n\n\n\n\tBolsa de Madrid\n\n\n\n<link href=\"/esp/aspx/RSS/RSS.ashx?feed=Todo\" id=\"ctl00_RSSLink1\" rel=\"alternate\" title=\"Bolsa de Madrid: Todos los contenidos agregados\" type=\"application/rss+xml\"/>\n\n\n<link href=\"/esp/aspx/RSS/RSS.ashx?feed=NotasPrensa\" id=\"ctl00_RSSLink2\" rel=\"alternate\" title=\"Bolsa de Madrid: Notas de Prensa\" type=\"application/rss+xml\"/>\n\n\n<link href=\"/esp/aspx/RSS/RSS.ashx?feed=Regulacion\" id=\"ctl00_RSSLink3\" rel=\"alternate\" title=\"Bolsa de Madrid: Regulación: Circulares e Instrucciones Operativas\" type=\"application/rss+xml\"/>\n\n\n<link href=\"/esp/aspx/RSS/RSS.ashx?feed=Indices\" id=\"ctl00_RSSLink4\" rel=\"alternate\" title=\"Bolsa de Madrid: Avisos Índices IBEX\" type=\"application/rss+xml\"/>\n\n\n<link href=\"/esp/aspx/RSS/RSS.ashx?feed=Revista\" id=\"ctl00_RSSLink5\" rel=\"alternate\" title=\"Bolsa de Madrid: Artículos de la Revista Bolsa\" type=\"application/rss+xml\"/>\n\n\n<script src=\"/js/Master?v=PtkdVRSCSv57J6f6ZB9CkgELDTGRfkMqHc6PrIxS-pw1\"></script>\n\n\n\n\n\n\n<link href=\"/css/css?v=Xgw1zxI1j2o88_i30Kjf_s3mXqcuR0ltVpgFaGkwvvU1\" rel=\"stylesheet\"/>\n\n\n\n\n\n\n<script language=\"javascript\" src=\"/js/TABLEscroll.js\" type=\"text/javascript\"></script>\n\n\n\n\n\n\n\n\n\n\n\n\n\n\n\n\n"
     ]
    }
   ],
   "source": [
    "print(\"--- listing descendants\")\n",
    "#print (title_tag)\n",
    "for child in head_tag.descendants:\n",
    "    print(child)\n",
    "    print('\\n')"
   ]
  },
  {
   "cell_type": "code",
   "execution_count": 29,
   "metadata": {
    "tags": []
   },
   "outputs": [
    {
     "output_type": "stream",
     "name": "stdout",
     "text": [
      "<title>\n\tBolsa de Madrid\n</title>\n\n\n<head data-analytics-id=\"UA-35966870-2\" data-app-path=\"/\" data-bolsa=\"BMadrid\" data-hora-act=\"Mon, 19 Oct 2020 09:18:32 GMT\" data-idioma=\"esp\"><meta content=\"IE=11\" http-equiv=\"X-UA-Compatible\"/><meta content=\"text/html; charset=utf-8\" http-equiv=\"Content-Type\"/><meta content=\"Copyright © BME 2020\" id=\"ctl00_copyright\" name=\"copyright\"/><title>\n\tBolsa de Madrid\n</title><link href=\"/esp/aspx/RSS/RSS.ashx?feed=Todo\" id=\"ctl00_RSSLink1\" rel=\"alternate\" title=\"Bolsa de Madrid: Todos los contenidos agregados\" type=\"application/rss+xml\"/><link href=\"/esp/aspx/RSS/RSS.ashx?feed=NotasPrensa\" id=\"ctl00_RSSLink2\" rel=\"alternate\" title=\"Bolsa de Madrid: Notas de Prensa\" type=\"application/rss+xml\"/><link href=\"/esp/aspx/RSS/RSS.ashx?feed=Regulacion\" id=\"ctl00_RSSLink3\" rel=\"alternate\" title=\"Bolsa de Madrid: Regulación: Circulares e Instrucciones Operativas\" type=\"application/rss+xml\"/><link href=\"/esp/aspx/RSS/RSS.ashx?feed=Indices\" id=\"ctl00_RSSLink4\" rel=\"alternate\" title=\"Bolsa de Madrid: Avisos Índices IBEX\" type=\"application/rss+xml\"/><link href=\"/esp/aspx/RSS/RSS.ashx?feed=Revista\" id=\"ctl00_RSSLink5\" rel=\"alternate\" title=\"Bolsa de Madrid: Artículos de la Revista Bolsa\" type=\"application/rss+xml\"/><script src=\"/js/Master?v=PtkdVRSCSv57J6f6ZB9CkgELDTGRfkMqHc6PrIxS-pw1\"></script>\n<link href=\"/css/css?v=Xgw1zxI1j2o88_i30Kjf_s3mXqcuR0ltVpgFaGkwvvU1\" rel=\"stylesheet\"/>\n<script language=\"javascript\" src=\"/js/TABLEscroll.js\" type=\"text/javascript\"></script></head>\n\n\n<a href=\"/?id=ing\" target=\"_self\"> English </a>\n\n\nprint ancestors\nli\nul\ndiv\ntd\ntr\ntable\ndiv\nbody\nhtml\n[document]\n"
     ]
    }
   ],
   "source": [
    "title_tag = soup.title\n",
    "print(title_tag)\n",
    "print('\\n')\n",
    "# direct parent\n",
    "print(title_tag.parent)\n",
    "print('\\n')\n",
    "\n",
    "# ancestors\n",
    "link = soup.a\n",
    "print (link)\n",
    "print('\\n')\n",
    "\n",
    "print('--- print ancestors')\n",
    "for parent in link.parents:\n",
    "    print(parent.name)"
   ]
  },
  {
   "cell_type": "code",
   "execution_count": null,
   "metadata": {},
   "outputs": [],
   "source": [
    "print('\\n')\n",
    "print('\\n')\n",
    "\n",
    "print('\\n')\n",
    "print('\\n')\n",
    "print('\\n')\n",
    "print('\\n')"
   ]
  }
 ]
}