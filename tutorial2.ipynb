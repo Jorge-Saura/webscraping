{
 "metadata": {
  "language_info": {
   "codemirror_mode": {
    "name": "ipython",
    "version": 3
   },
   "file_extension": ".py",
   "mimetype": "text/x-python",
   "name": "python",
   "nbconvert_exporter": "python",
   "pygments_lexer": "ipython3",
   "version": "3.8.3-final"
  },
  "orig_nbformat": 2,
  "kernelspec": {
   "name": "Python 3.8.3 64-bit ('base': conda)",
   "display_name": "Python 3.8.3 64-bit ('base': conda)",
   "metadata": {
    "interpreter": {
     "hash": "cb07a77ecf7b4449aa7dce03c8ddc610d4692d85b66af8cfbf7771292e28ab12"
    }
   }
  }
 },
 "nbformat": 4,
 "nbformat_minor": 2,
 "cells": [
  {
   "cell_type": "code",
   "execution_count": null,
   "metadata": {},
   "outputs": [],
   "source": [
    "## Análisis vertical"
   ]
  },
  {
   "cell_type": "code",
   "execution_count": 2,
   "metadata": {},
   "outputs": [
    {
     "output_type": "stream",
     "name": "stdout",
     "text": [
      "[document]\n"
     ]
    }
   ],
   "source": [
    "import requests\n",
    "from bs4 import BeautifulSoup\n",
    "\n",
    "str = \"https://www.bolsamadrid.es\"\n",
    "page = requests.get(str)\n",
    "soup = BeautifulSoup(page.content)\n",
    "\n",
    "print(soup.name)"
   ]
  },
  {
   "cell_type": "code",
   "execution_count": 7,
   "metadata": {
    "tags": []
   },
   "outputs": [
    {
     "output_type": "stream",
     "name": "stdout",
     "text": [
      "<head data-analytics-id=\"UA-35966870-2\" data-app-path=\"/\" data-bolsa=\"BMadrid\" data-hora-act=\"Sun, 18 Oct 2020 20:09:51 GMT\" data-idioma=\"esp\"><meta content=\"IE=11\" http-equiv=\"X-UA-Compatible\"/><meta content=\"text/html; charset=utf-8\" http-equiv=\"Content-Type\"/><meta content=\"Copyright © BME 2020\" id=\"ctl00_copyright\" name=\"copyright\"/><title>\n\tBolsa de Madrid\n</title><link href=\"/esp/aspx/RSS/RSS.ashx?feed=Todo\" id=\"ctl00_RSSLink1\" rel=\"alternate\" title=\"Bolsa de Madrid: Todos los contenidos agregados\" type=\"application/rss+xml\"/><link href=\"/esp/aspx/RSS/RSS.ashx?feed=NotasPrensa\" id=\"ctl00_RSSLink2\" rel=\"alternate\" title=\"Bolsa de Madrid: Notas de Prensa\" type=\"application/rss+xml\"/><link href=\"/esp/aspx/RSS/RSS.ashx?feed=Regulacion\" id=\"ctl00_RSSLink3\" rel=\"alternate\" title=\"Bolsa de Madrid: Regulación: Circulares e Instrucciones Operativas\" type=\"application/rss+xml\"/><link href=\"/esp/aspx/RSS/RSS.ashx?feed=Indices\" id=\"ctl00_RSSLink4\" rel=\"alternate\" title=\"Bolsa de Madrid: Avisos Índices IBEX\" type=\"application/rss+xml\"/><link href=\"/esp/aspx/RSS/RSS.ashx?feed=Revista\" id=\"ctl00_RSSLink5\" rel=\"alternate\" title=\"Bolsa de Madrid: Artículos de la Revista Bolsa\" type=\"application/rss+xml\"/><script src=\"/js/Master?v=PtkdVRSCSv57J6f6ZB9CkgELDTGRfkMqHc6PrIxS-pw1\"></script>\n<link href=\"/css/css?v=Xgw1zxI1j2o88_i30Kjf_s3mXqcuR0ltVpgFaGkwvvU1\" rel=\"stylesheet\"/>\n<script language=\"javascript\" src=\"/js/TABLEscroll.js\" type=\"text/javascript\"></script></head>\n\n\n<td colspan=\"6\" id=\"CabeceraArr\">\n<div id=\"Idiomas\"><ul><li class=\"mclick\"><a href=\"/?id=ing\" target=\"_self\"> English </a></li></ul></div>\n<div id=\"MenuSup\"><ul><li class=\"mclick\"><a href=\"/esp/BMadrid/Contacto.aspx\" target=\"_self\"> Contacto </a></li><li class=\"mclick\"><a href=\"/esp/Inversores/Agenda/HorarioMercado.aspx\" target=\"_self\"> Horario Mercado </a></li><li class=\"mclick\"><a href=\"/esp/aspx/Inversores/Agenda/Calendario.aspx\" target=\"_self\"> Calendario bursátil </a></li><li class=\"mclick\"><a href=\"/esp/RSS.aspx\" target=\"_self\"> RSS   <img align=\"absmiddle\" alt=\"RSS\" border=\"0\" src=\"/images/IconoRSS.png\"/> </a></li></ul></div>\n</td>\n\n\n"
     ]
    }
   ],
   "source": [
    "head_tag = soup.head\n",
    "print(head_tag)\n",
    "print('\\n')\n",
    "print(soup.body.td)\n",
    "\n",
    "\n",
    "print('\\n')\n",
    "print('\\n')\n",
    "print('\\n')\n",
    "print('\\n')\n",
    "print('\\n')\n",
    "print('\\n')\n",
    "print('\\n')\n"
   ]
  }
 ]
}