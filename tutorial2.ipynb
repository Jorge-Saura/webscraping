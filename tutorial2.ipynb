{
 "metadata": {
  "language_info": {
   "codemirror_mode": {
    "name": "ipython",
    "version": 3
   },
   "file_extension": ".py",
   "mimetype": "text/x-python",
   "name": "python",
   "nbconvert_exporter": "python",
   "pygments_lexer": "ipython3",
   "version": "3.8.3-final"
  },
  "orig_nbformat": 2,
  "kernelspec": {
   "name": "Python 3.8.3 64-bit ('base': conda)",
   "display_name": "Python 3.8.3 64-bit ('base': conda)",
   "metadata": {
    "interpreter": {
     "hash": "cb07a77ecf7b4449aa7dce03c8ddc610d4692d85b66af8cfbf7771292e28ab12"
    }
   }
  }
 },
 "nbformat": 4,
 "nbformat_minor": 2,
 "cells": [
  {
   "cell_type": "code",
   "execution_count": 1,
   "metadata": {},
   "outputs": [],
   "source": [
    "## Análisis vertical"
   ]
  },
  {
   "cell_type": "code",
   "execution_count": 2,
   "metadata": {},
   "outputs": [
    {
     "output_type": "stream",
     "name": "stdout",
     "text": [
      "[document]\n"
     ]
    }
   ],
   "source": [
    "import requests\n",
    "from bs4 import BeautifulSoup\n",
    "\n",
    "str = \"https://www.bolsamadrid.es\"\n",
    "page = requests.get(str)\n",
    "soup = BeautifulSoup(page.content)\n",
    "\n",
    "print(soup.name)"
   ]
  },
  {
   "cell_type": "code",
   "execution_count": 19,
   "metadata": {
    "tags": []
   },
   "outputs": [
    {
     "output_type": "stream",
     "name": "stdout",
     "text": [
      "--- head_tag\n<head data-analytics-id=\"UA-35966870-2\" data-app-path=\"/\" data-bolsa=\"BMadrid\" data-hora-act=\"Mon, 19 Oct 2020 09:18:32 GMT\" data-idioma=\"esp\"><meta content=\"IE=11\" http-equiv=\"X-UA-Compatible\"/><meta content=\"text/html; charset=utf-8\" http-equiv=\"Content-Type\"/><meta content=\"Copyright © BME 2020\" id=\"ctl00_copyright\" name=\"copyright\"/><title>\n\tBolsa de Madrid\n</title><link href=\"/esp/aspx/RSS/RSS.ashx?feed=Todo\" id=\"ctl00_RSSLink1\" rel=\"alternate\" title=\"Bolsa de Madrid: Todos los contenidos agregados\" type=\"application/rss+xml\"/><link href=\"/esp/aspx/RSS/RSS.ashx?feed=NotasPrensa\" id=\"ctl00_RSSLink2\" rel=\"alternate\" title=\"Bolsa de Madrid: Notas de Prensa\" type=\"application/rss+xml\"/><link href=\"/esp/aspx/RSS/RSS.ashx?feed=Regulacion\" id=\"ctl00_RSSLink3\" rel=\"alternate\" title=\"Bolsa de Madrid: Regulación: Circulares e Instrucciones Operativas\" type=\"application/rss+xml\"/><link href=\"/esp/aspx/RSS/RSS.ashx?feed=Indices\" id=\"ctl00_RSSLink4\" rel=\"alternate\" title=\"Bolsa de Madrid: Avisos Índices IBEX\" type=\"application/rss+xml\"/><link href=\"/esp/aspx/RSS/RSS.ashx?feed=Revista\" id=\"ctl00_RSSLink5\" rel=\"alternate\" title=\"Bolsa de Madrid: Artículos de la Revista Bolsa\" type=\"application/rss+xml\"/><script src=\"/js/Master?v=PtkdVRSCSv57J6f6ZB9CkgELDTGRfkMqHc6PrIxS-pw1\"></script>\n<link href=\"/css/css?v=Xgw1zxI1j2o88_i30Kjf_s3mXqcuR0ltVpgFaGkwvvU1\" rel=\"stylesheet\"/>\n<script language=\"javascript\" src=\"/js/TABLEscroll.js\" type=\"text/javascript\"></script></head>\n\n\n--- content of head tag\n[<meta content=\"IE=11\" http-equiv=\"X-UA-Compatible\"/>, <meta content=\"text/html; charset=utf-8\" http-equiv=\"Content-Type\"/>, <meta content=\"Copyright © BME 2020\" id=\"ctl00_copyright\" name=\"copyright\"/>, <title>\n\tBolsa de Madrid\n</title>, <link href=\"/esp/aspx/RSS/RSS.ashx?feed=Todo\" id=\"ctl00_RSSLink1\" rel=\"alternate\" title=\"Bolsa de Madrid: Todos los contenidos agregados\" type=\"application/rss+xml\"/>, <link href=\"/esp/aspx/RSS/RSS.ashx?feed=NotasPrensa\" id=\"ctl00_RSSLink2\" rel=\"alternate\" title=\"Bolsa de Madrid: Notas de Prensa\" type=\"application/rss+xml\"/>, <link href=\"/esp/aspx/RSS/RSS.ashx?feed=Regulacion\" id=\"ctl00_RSSLink3\" rel=\"alternate\" title=\"Bolsa de Madrid: Regulación: Circulares e Instrucciones Operativas\" type=\"application/rss+xml\"/>, <link href=\"/esp/aspx/RSS/RSS.ashx?feed=Indices\" id=\"ctl00_RSSLink4\" rel=\"alternate\" title=\"Bolsa de Madrid: Avisos Índices IBEX\" type=\"application/rss+xml\"/>, <link href=\"/esp/aspx/RSS/RSS.ashx?feed=Revista\" id=\"ctl00_RSSLink5\" rel=\"alternate\" title=\"Bolsa de Madrid: Artículos de la Revista Bolsa\" type=\"application/rss+xml\"/>, <script src=\"/js/Master?v=PtkdVRSCSv57J6f6ZB9CkgELDTGRfkMqHc6PrIxS-pw1\"></script>, '\\n', <link href=\"/css/css?v=Xgw1zxI1j2o88_i30Kjf_s3mXqcuR0ltVpgFaGkwvvU1\" rel=\"stylesheet\"/>, '\\n', <script language=\"javascript\" src=\"/js/TABLEscroll.js\" type=\"text/javascript\"></script>]\n\n\n--- content[0]\n<meta content=\"IE=11\" http-equiv=\"X-UA-Compatible\"/>\n\n\n--- content[3]\n<title>\n\tBolsa de Madrid\n</title>\n\n\n--- title\n<title>\n\tBolsa de Madrid\n</title>\n"
     ]
    }
   ],
   "source": [
    "head_tag = soup.head\n",
    "print(\"--- head_tag\")\n",
    "print(head_tag)\n",
    "print('\\n')\n",
    "print(\"--- content of head tag\")\n",
    "print(head_tag.contents)\n",
    "print('\\n')\n",
    "print(\"--- content[0]\")\n",
    "title_tag = head_tag.contents \n",
    "print(title_tag[0]) #first element\n",
    "print('\\n')\n",
    "print(\"--- content[3]\")\n",
    "print(head_tag.contents[3])\n",
    "print('\\n')\n",
    "print(\"--- title\")\n",
    "print(head_tag.title)\n",
    "#print(soup.body.td)\n",
    "\n"
   ]
  },
  {
   "cell_type": "code",
   "execution_count": 20,
   "metadata": {},
   "outputs": [
    {
     "output_type": "stream",
     "name": "stdout",
     "text": [
      "--- listing children\n<meta content=\"IE=11\" http-equiv=\"X-UA-Compatible\"/>\n\n\n<meta content=\"text/html; charset=utf-8\" http-equiv=\"Content-Type\"/>\n\n\n<meta content=\"Copyright © BME 2020\" id=\"ctl00_copyright\" name=\"copyright\"/>\n\n\n<title>\n\tBolsa de Madrid\n</title>\n\n\n<link href=\"/esp/aspx/RSS/RSS.ashx?feed=Todo\" id=\"ctl00_RSSLink1\" rel=\"alternate\" title=\"Bolsa de Madrid: Todos los contenidos agregados\" type=\"application/rss+xml\"/>\n\n\n<link href=\"/esp/aspx/RSS/RSS.ashx?feed=NotasPrensa\" id=\"ctl00_RSSLink2\" rel=\"alternate\" title=\"Bolsa de Madrid: Notas de Prensa\" type=\"application/rss+xml\"/>\n\n\n<link href=\"/esp/aspx/RSS/RSS.ashx?feed=Regulacion\" id=\"ctl00_RSSLink3\" rel=\"alternate\" title=\"Bolsa de Madrid: Regulación: Circulares e Instrucciones Operativas\" type=\"application/rss+xml\"/>\n\n\n<link href=\"/esp/aspx/RSS/RSS.ashx?feed=Indices\" id=\"ctl00_RSSLink4\" rel=\"alternate\" title=\"Bolsa de Madrid: Avisos Índices IBEX\" type=\"application/rss+xml\"/>\n\n\n<link href=\"/esp/aspx/RSS/RSS.ashx?feed=Revista\" id=\"ctl00_RSSLink5\" rel=\"alternate\" title=\"Bolsa de Madrid: Artículos de la Revista Bolsa\" type=\"application/rss+xml\"/>\n\n\n<script src=\"/js/Master?v=PtkdVRSCSv57J6f6ZB9CkgELDTGRfkMqHc6PrIxS-pw1\"></script>\n\n\n\n\n\n\n<link href=\"/css/css?v=Xgw1zxI1j2o88_i30Kjf_s3mXqcuR0ltVpgFaGkwvvU1\" rel=\"stylesheet\"/>\n\n\n\n\n\n\n<script language=\"javascript\" src=\"/js/TABLEscroll.js\" type=\"text/javascript\"></script>\n\n\n"
     ]
    }
   ],
   "source": [
    "\n",
    "print(\"--- listing children\")\n",
    "#print (title_tag)\n",
    "for child in head_tag.children:\n",
    "    print(child)\n",
    "    print('\\n')"
   ]
  },
  {
   "cell_type": "code",
   "execution_count": 21,
   "metadata": {},
   "outputs": [
    {
     "output_type": "stream",
     "name": "stdout",
     "text": [
      "--- listing descendants\n<meta content=\"IE=11\" http-equiv=\"X-UA-Compatible\"/>\n\n\n<meta content=\"text/html; charset=utf-8\" http-equiv=\"Content-Type\"/>\n\n\n<meta content=\"Copyright © BME 2020\" id=\"ctl00_copyright\" name=\"copyright\"/>\n\n\n<title>\n\tBolsa de Madrid\n</title>\n\n\n\n\tBolsa de Madrid\n\n\n\n<link href=\"/esp/aspx/RSS/RSS.ashx?feed=Todo\" id=\"ctl00_RSSLink1\" rel=\"alternate\" title=\"Bolsa de Madrid: Todos los contenidos agregados\" type=\"application/rss+xml\"/>\n\n\n<link href=\"/esp/aspx/RSS/RSS.ashx?feed=NotasPrensa\" id=\"ctl00_RSSLink2\" rel=\"alternate\" title=\"Bolsa de Madrid: Notas de Prensa\" type=\"application/rss+xml\"/>\n\n\n<link href=\"/esp/aspx/RSS/RSS.ashx?feed=Regulacion\" id=\"ctl00_RSSLink3\" rel=\"alternate\" title=\"Bolsa de Madrid: Regulación: Circulares e Instrucciones Operativas\" type=\"application/rss+xml\"/>\n\n\n<link href=\"/esp/aspx/RSS/RSS.ashx?feed=Indices\" id=\"ctl00_RSSLink4\" rel=\"alternate\" title=\"Bolsa de Madrid: Avisos Índices IBEX\" type=\"application/rss+xml\"/>\n\n\n<link href=\"/esp/aspx/RSS/RSS.ashx?feed=Revista\" id=\"ctl00_RSSLink5\" rel=\"alternate\" title=\"Bolsa de Madrid: Artículos de la Revista Bolsa\" type=\"application/rss+xml\"/>\n\n\n<script src=\"/js/Master?v=PtkdVRSCSv57J6f6ZB9CkgELDTGRfkMqHc6PrIxS-pw1\"></script>\n\n\n\n\n\n\n<link href=\"/css/css?v=Xgw1zxI1j2o88_i30Kjf_s3mXqcuR0ltVpgFaGkwvvU1\" rel=\"stylesheet\"/>\n\n\n\n\n\n\n<script language=\"javascript\" src=\"/js/TABLEscroll.js\" type=\"text/javascript\"></script>\n\n\n\n\n\n\n\n\n\n\n\n\n\n\n\n\n"
     ]
    }
   ],
   "source": [
    "print(\"--- listing descendants\")\n",
    "#print (title_tag)\n",
    "for child in head_tag.descendants:\n",
    "    print(child)\n",
    "    print('\\n')"
   ]
  },
  {
   "cell_type": "code",
   "execution_count": 29,
   "metadata": {
    "tags": []
   },
   "outputs": [
    {
     "output_type": "stream",
     "name": "stdout",
     "text": [
      "<title>\n\tBolsa de Madrid\n</title>\n\n\n<head data-analytics-id=\"UA-35966870-2\" data-app-path=\"/\" data-bolsa=\"BMadrid\" data-hora-act=\"Mon, 19 Oct 2020 09:18:32 GMT\" data-idioma=\"esp\"><meta content=\"IE=11\" http-equiv=\"X-UA-Compatible\"/><meta content=\"text/html; charset=utf-8\" http-equiv=\"Content-Type\"/><meta content=\"Copyright © BME 2020\" id=\"ctl00_copyright\" name=\"copyright\"/><title>\n\tBolsa de Madrid\n</title><link href=\"/esp/aspx/RSS/RSS.ashx?feed=Todo\" id=\"ctl00_RSSLink1\" rel=\"alternate\" title=\"Bolsa de Madrid: Todos los contenidos agregados\" type=\"application/rss+xml\"/><link href=\"/esp/aspx/RSS/RSS.ashx?feed=NotasPrensa\" id=\"ctl00_RSSLink2\" rel=\"alternate\" title=\"Bolsa de Madrid: Notas de Prensa\" type=\"application/rss+xml\"/><link href=\"/esp/aspx/RSS/RSS.ashx?feed=Regulacion\" id=\"ctl00_RSSLink3\" rel=\"alternate\" title=\"Bolsa de Madrid: Regulación: Circulares e Instrucciones Operativas\" type=\"application/rss+xml\"/><link href=\"/esp/aspx/RSS/RSS.ashx?feed=Indices\" id=\"ctl00_RSSLink4\" rel=\"alternate\" title=\"Bolsa de Madrid: Avisos Índices IBEX\" type=\"application/rss+xml\"/><link href=\"/esp/aspx/RSS/RSS.ashx?feed=Revista\" id=\"ctl00_RSSLink5\" rel=\"alternate\" title=\"Bolsa de Madrid: Artículos de la Revista Bolsa\" type=\"application/rss+xml\"/><script src=\"/js/Master?v=PtkdVRSCSv57J6f6ZB9CkgELDTGRfkMqHc6PrIxS-pw1\"></script>\n<link href=\"/css/css?v=Xgw1zxI1j2o88_i30Kjf_s3mXqcuR0ltVpgFaGkwvvU1\" rel=\"stylesheet\"/>\n<script language=\"javascript\" src=\"/js/TABLEscroll.js\" type=\"text/javascript\"></script></head>\n\n\n<a href=\"/?id=ing\" target=\"_self\"> English </a>\n\n\nprint ancestors\nli\nul\ndiv\ntd\ntr\ntable\ndiv\nbody\nhtml\n[document]\n"
     ]
    }
   ],
   "source": [
    "title_tag = soup.title\n",
    "print(title_tag)\n",
    "print('\\n')\n",
    "# direct parent\n",
    "print(title_tag.parent)\n",
    "print('\\n')\n",
    "\n",
    "# ancestors\n",
    "link = soup.a\n",
    "print (link)\n",
    "print('\\n')\n",
    "\n",
    "print('--- print ancestors')\n",
    "for parent in link.parents:\n",
    "    print(parent.name)"
   ]
  },
  {
   "cell_type": "code",
   "execution_count": null,
   "metadata": {},
   "outputs": [],
   "source": [
    "print('\\n')\n",
    "print('\\n')\n",
    "\n",
    "print('\\n')\n",
    "print('\\n')\n",
    "print('\\n')\n",
    "print('\\n')"
   ]
  }
 ]
}